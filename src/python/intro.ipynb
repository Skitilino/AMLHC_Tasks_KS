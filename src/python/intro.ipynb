{
 "cells": [
  {
   "cell_type": "markdown",
   "id": "4e2dbae4-60bf-4b13-be83-dffee3eaa97d",
   "metadata": {},
   "source": [
    "# Introduction to Python\n",
    "## Berechnung der Mittelwerte mit `calcMeans`\n"
   ]
  },
  {
   "cell_type": "code",
   "execution_count": null,
   "id": "75a4f423-3960-496b-86d6-1fc959787cb8",
   "metadata": {},
   "outputs": [],
   "source": [
    "## PCA Score Plot: PC1 vs. PC2 – Ergebnisse aus `food.py`"
   ]
  },
  {
   "cell_type": "code",
   "execution_count": null,
   "id": "acaef8d4-1f2c-4427-a343-d301d93a6db7",
   "metadata": {},
   "outputs": [],
   "source": []
  },
  {
   "cell_type": "code",
   "execution_count": 1,
   "id": "36a5ecef-754a-49df-9ce6-1359b940d0fa",
   "metadata": {},
   "outputs": [
    {
     "name": "stdout",
     "output_type": "stream",
     "text": [
      "sepal length (cm)    5.843333\n",
      "sepal width (cm)     3.057333\n",
      "petal length (cm)    3.758000\n",
      "petal width (cm)     1.199333\n",
      "dtype: float64\n"
     ]
    }
   ],
   "source": [
    "import pandas as pd\n",
    "import numpy as np\n",
    "from sklearn import datasets\n",
    "\n",
    "# Funktion zur Berechnung der Mittelwerte\n",
    "def calcMeans(dataframe):\n",
    "    return dataframe.apply(np.mean)\n",
    "\n",
    "# Lade den Iris-Datensatz\n",
    "iris = datasets.load_iris(return_X_y=True, as_frame=True)[0]  # Nimmt nur das DataFrame\n",
    "\n",
    "# Wende die Funktion calcMeans auf den Iris-Datensatz an\n",
    "print(calcMeans(iris))"
   ]
  },
  {
   "cell_type": "markdown",
   "id": "13b0b8dd-b82a-4586-b6ac-b981b44f1134",
   "metadata": {},
   "source": []
  },
  {
   "cell_type": "code",
   "execution_count": 2,
   "id": "cce6d85d-ca54-4e99-baac-98c8a4e1a04a",
   "metadata": {},
   "outputs": [
    {
     "ename": "SyntaxError",
     "evalue": "invalid syntax (3295417600.py, line 2)",
     "output_type": "error",
     "traceback": [
      "  \u001b[36mCell\u001b[39m\u001b[36m \u001b[39m\u001b[32mIn[2]\u001b[39m\u001b[32m, line 2\u001b[39m\n\u001b[31m    \u001b[39m\u001b[31mDie Funktion `calcMeans` berechnet die Mittelwerte der vier numerischen Merkmale des Iris-Datensatzes. Hier sind die Ergebnisse:\u001b[39m\n        ^\n\u001b[31mSyntaxError\u001b[39m\u001b[31m:\u001b[39m invalid syntax\n"
     ]
    }
   ],
   "source": [
    "## Berechnung der Mittelwerte\n",
    "Die Funktion `calcMeans` berechnet die Mittelwerte der vier numerischen Merkmale des Iris-Datensatzes. Hier sind die Ergebnisse:\n",
    "- sepal length (cm): 5.843\n",
    "- sepal width (cm): 3.057\n",
    "- petal length (cm): 3.758\n",
    "- petal width (cm): 1.199\n"
   ]
  },
  {
   "cell_type": "markdown",
   "id": "ccba6bb4-8eb0-467b-b9d4-53222f820726",
   "metadata": {},
   "source": [
    "## Berechnung der Mittelwerte\n",
    "Die Funktion `calcMeans` berechnet die Mittelwerte der vier numerischen Merkmale des Iris-Datensatzes. Hier sind die Ergebnisse:\n",
    "- sepal length (cm): 5.843\n",
    "- sepal width (cm): 3.057\n",
    "- petal length (cm): 3.758\n",
    "- petal width (cm): 1.199\n"
   ]
  },
  {
   "cell_type": "code",
   "execution_count": null,
   "id": "1bd02f9c-2796-4c9c-a391-9a3c78957109",
   "metadata": {},
   "outputs": [],
   "source": []
  }
 ],
 "metadata": {
  "kernelspec": {
   "display_name": "Python 3 (ipykernel)",
   "language": "python",
   "name": "python3"
  },
  "language_info": {
   "codemirror_mode": {
    "name": "ipython",
    "version": 3
   },
   "file_extension": ".py",
   "mimetype": "text/x-python",
   "name": "python",
   "nbconvert_exporter": "python",
   "pygments_lexer": "ipython3",
   "version": "3.13.2"
  }
 },
 "nbformat": 4,
 "nbformat_minor": 5
}
